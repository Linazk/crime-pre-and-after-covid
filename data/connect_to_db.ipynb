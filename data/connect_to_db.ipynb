{
 "cells": [
  {
   "cell_type": "code",
   "execution_count": 1,
   "id": "0fa24efc",
   "metadata": {},
   "outputs": [],
   "source": [
    "# connect to sql db"
   ]
  },
  {
   "cell_type": "code",
   "execution_count": 9,
   "id": "3325988c",
   "metadata": {},
   "outputs": [
    {
     "name": "stdout",
     "output_type": "stream",
     "text": [
      "Succesfully connected to mysql server:  8.0.26\n",
      "connected to db:  ('crimedb',)\n"
     ]
    },
    {
     "data": {
      "text/plain": [
       "<bound method ConnectToDB.close_connection of <__main__.ConnectToDB object at 0x7fa916734910>>"
      ]
     },
     "execution_count": 9,
     "metadata": {},
     "output_type": "execute_result"
    }
   ],
   "source": [
    "import mysql.connector\n",
    "from mysql.connector import Error\n",
    "# to use it in diff notebook you need to pip install import-ipynb\n",
    "#import import_ipynb\n",
    "#from connect_to_db import db_cnx\n",
    "\n",
    "\n",
    "class ConnectToDB():\n",
    "    pass\n",
    "\n",
    "    def db_connection(self, hostname, database, username, password):\n",
    "        '''\n",
    "        creates connection to the group project database\n",
    "        add the credentials to connect to RDS\n",
    "        hostname='database-1.caiikwj2d9fo.us-east-2.rds.amazonaws.com',\n",
    "        database='crimedb',\n",
    "        username='cfg_user',\n",
    "        password='cfg_project2021'\n",
    "        '''\n",
    "        try:\n",
    "            self.cnx = mysql.connector.connect(host=hostname,\n",
    "                                               database=database,\n",
    "                                               user=username,\n",
    "                                               password=password)\n",
    "            if self.cnx.is_connected():\n",
    "                crimedb_info = self.cnx.get_server_info()\n",
    "                print('Succesfully connected to mysql server: ', crimedb_info)\n",
    "                # cursor\n",
    "                self.crs = self.cnx.cursor()\n",
    "                # getting the db\n",
    "                self.crs.execute('select database();')\n",
    "                record = self.crs.fetchone()\n",
    "                print('connected to db: ', record)\n",
    "        except Error as e:\n",
    "            print('there was an error while connecting', e)\n",
    "\n",
    "        return\n",
    "\n",
    "    def close_connection(self):\n",
    "        '''\n",
    "        closes the connection\n",
    "        '''\n",
    "        if self.cnx.is_connected():\n",
    "            self.crs.close()\n",
    "            self.cnx.close()\n",
    "            return 'SQL connection is closed'\n",
    "\n"
   ]
  },
  {
   "cell_type": "code",
   "execution_count": null,
   "id": "db8edabf",
   "metadata": {},
   "outputs": [],
   "source": [
    "db_cnx = ConnectToDB()\n",
    "db_cnx.db_connection(\n",
    "    hostname='database-1.caiikwj2d9fo.us-east-2.rds.amazonaws.com',\n",
    "    database='crimedb',\n",
    "    username='cfg_user',\n",
    "    password='cfg_project2021')\n",
    "db_cnx.close_connection"
   ]
  }
 ],
 "metadata": {
  "hide_input": true,
  "kernelspec": {
   "display_name": "Python 3",
   "language": "python",
   "name": "python3"
  },
  "language_info": {
   "codemirror_mode": {
    "name": "ipython",
    "version": 3
   },
   "file_extension": ".py",
   "mimetype": "text/x-python",
   "name": "python",
   "nbconvert_exporter": "python",
   "pygments_lexer": "ipython3",
   "version": "3.8.8"
  },
  "toc": {
   "base_numbering": 1,
   "nav_menu": {},
   "number_sections": true,
   "sideBar": true,
   "skip_h1_title": false,
   "title_cell": "Table of Contents",
   "title_sidebar": "Contents",
   "toc_cell": false,
   "toc_position": {},
   "toc_section_display": true,
   "toc_window_display": false
  },
  "varInspector": {
   "cols": {
    "lenName": 16,
    "lenType": 16,
    "lenVar": 40
   },
   "kernels_config": {
    "python": {
     "delete_cmd_postfix": "",
     "delete_cmd_prefix": "del ",
     "library": "var_list.py",
     "varRefreshCmd": "print(var_dic_list())"
    },
    "r": {
     "delete_cmd_postfix": ") ",
     "delete_cmd_prefix": "rm(",
     "library": "var_list.r",
     "varRefreshCmd": "cat(var_dic_list()) "
    }
   },
   "types_to_exclude": [
    "module",
    "function",
    "builtin_function_or_method",
    "instance",
    "_Feature"
   ],
   "window_display": false
  }
 },
 "nbformat": 4,
 "nbformat_minor": 5
}
