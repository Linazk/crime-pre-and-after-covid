{
 "cells": [
  {
   "cell_type": "code",
   "execution_count": null,
   "id": "39b85e29",
   "metadata": {},
   "outputs": [],
   "source": [
    "# create a list of conditions\n",
    "conditions = [\n",
    "    (data2['Month'].apply(lambda x: x[:4]) == '2019') |\n",
    "    (data2['Month'].apply(lambda x: x[:4]) == '2018') |\n",
    "    (data2['Month'] == '2020-01') |\n",
    "    (data2['Month'] == '2020-02') |\n",
    "    (data2['Month'] == '2020-06') |\n",
    "    (data2['Month'] == '2020-07') |\n",
    "    (data2['Month'] == '2020-08') |\n",
    "    (data2['Month'] == '2020-09') |\n",
    "    (data2['Month'] == '2020-10') |\n",
    "    (data2['Month'] == '2020-12') |\n",
    "    (data2['Month'] == '2021-04') |\n",
    "    (data2['Month'] == '2021-05') |\n",
    "    (data2['Month'] == '2021-06') |\n",
    "    (data2['Month'] == '2021-07') |\n",
    "    (data2['Month'] == '2021-08') |\n",
    "    (data2['Month'] == '2021-09') |\n",
    "    (data2['Month'] == '2021-10'),\n",
    "    (data2['Month'] == '2020-03')|\n",
    "    (data2['Month'] == '2020-04')|\n",
    "    (data2['Month'] == '2020-05')|\n",
    "    (data2['Month'] == '2020-11')|\n",
    "    (data2['Month'] == '2021-01')|\n",
    "    (data2['Month'] == '2021-02')|\n",
    "    (data2['Month'] == '2021-03')\n",
    "     ]"
   ]
  },
  {
   "cell_type": "code",
   "execution_count": null,
   "id": "8fa8c7e5",
   "metadata": {},
   "outputs": [],
   "source": [
    "# create a list of the values to be assigned for each condition\n",
    "values = [0, 1]"
   ]
  },
  {
   "cell_type": "code",
   "execution_count": null,
   "id": "87221f56",
   "metadata": {},
   "outputs": [],
   "source": [
    "# create a new column and use np.select to assign values to it using the lists as arguments\n",
    "data['lockdown'] = np.select(conditions, values)"
   ]
  },
  {
   "cell_type": "code",
   "execution_count": 2,
   "id": "70263490",
   "metadata": {},
   "outputs": [],
   "source": [
    "#create a function to clean the 'LSOA name' column by removing the code\n",
    "def get_borough(item):\n",
    "    if not pd.isna(item):\n",
    "        #print(item, type(item))\n",
    "        return item[:-5]\n",
    "    else:\n",
    "        return item"
   ]
  },
  {
   "cell_type": "code",
   "execution_count": null,
   "id": "7e08f50b",
   "metadata": {},
   "outputs": [],
   "source": [
    "data['borough_london']=  data['LSOA name'].applymap(get_borough)"
   ]
  },
  {
   "cell_type": "code",
   "execution_count": null,
   "id": "a24afe5d",
   "metadata": {},
   "outputs": [],
   "source": []
  }
 ],
 "metadata": {
  "kernelspec": {
   "display_name": "Python 3",
   "language": "python",
   "name": "python3"
  },
  "language_info": {
   "codemirror_mode": {
    "name": "ipython",
    "version": 3
   },
   "file_extension": ".py",
   "mimetype": "text/x-python",
   "name": "python",
   "nbconvert_exporter": "python",
   "pygments_lexer": "ipython3",
   "version": "3.8.8"
  }
 },
 "nbformat": 4,
 "nbformat_minor": 5
}
