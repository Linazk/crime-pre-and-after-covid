{
 "cells": [
  {
   "cell_type": "code",
   "execution_count": null,
   "id": "c01c4279",
   "metadata": {},
   "outputs": [],
   "source": [
    "import pandas as pd\n",
    "import seaborn as sns\n",
    "import plotly.figure_factory as ff\n",
    "import plotly.express as px\n",
    "import matplotlib.pyplot as plt\n",
    "\n",
    "import pandas as pd\n",
    "import seaborn as sns\n",
    "import plotly.figure_factory as ff\n",
    "import plotly.express as px\n",
    "import matplotlib.pyplot as plt"
   ]
  },
  {
   "cell_type": "code",
   "execution_count": null,
   "id": "d36c2320",
   "metadata": {},
   "outputs": [],
   "source": [
    "class HexMaps():\n",
    "    \n",
    "    def get_coords(self, df, col_name, min_, max_, long_min, long_max, inclusive=True):\n",
    "        '''\n",
    "        gets the coordinates for each city in order to plot them in the map\n",
    "        col_name; choose either the long or lat column\n",
    "        min_, max_; are for the first column, if both long and lat columns are used \n",
    "        then long_min, long_max are used for the extra column coordinates\n",
    "        Since Sheffield has the same latitude as Liverpool and the same longitude as Leeds \n",
    "        both longitude and latitude if statement was added to account for that\n",
    "        '''\n",
    "        \n",
    "        self.new_df = df[df[col_name].between(min_, max_, inclusive=inclusive)]\n",
    "        \n",
    "        # for if both long and lat are provided\n",
    "        if long_min is not None and long_max is not None:\n",
    "            self.new_df = self.new_df[self.new_df['longitude'].between(long_min, long_max, inclusive=inclusive)]\n",
    "        \n",
    "\n",
    "        return self.new_df.shape\n",
    "    \n",
    "    def plot_hexmap(self, df, color_continuous_scale, marker_color, nx_hexagon, size):\n",
    "        \n",
    "        # getting an api token\n",
    "        px.set_mapbox_access_token('pk.eyJ1IjoibHpqZCIsImEiOiJja3hrcjFldjkxOWFvMnB1YjRkYXRwOXA5In0.MF_PBu1CBZsOnbzy6NWasA')\n",
    "        \n",
    "        # making the plot\n",
    "        fig = ff.create_hexbin_mapbox(\n",
    "        data_frame=self.new_df, lat='latitude', lon='longitude',\n",
    "        nx_hexagon=nx_hexagon, opacity=0.7,\n",
    "        min_count=1, color_continuous_scale=color_continuous_scale,\n",
    "        show_original_data=True, # this plots data too\n",
    "        original_data_marker=dict(size=size, opacity=0.1, color=marker_color)\n",
    "        )\n",
    "        \n",
    "        fig.show()\n",
    "        \n",
    "        return\n",
    "        \n",
    "hm = HexMaps()"
   ]
  },
  {
   "cell_type": "code",
   "execution_count": null,
   "id": "e2e6ee91",
   "metadata": {},
   "outputs": [],
   "source": [
    "class HexMaps():\n",
    "    \n",
    "    def get_coords(self, df, col_name, min_, max_, long_min, long_max, inclusive=True):\n",
    "        '''\n",
    "        gets the coordinates for each city in order to plot them in the map\n",
    "        col_name; choose either the long or lat column\n",
    "        min_, max_; are for the first column, if both long and lat columns are used \n",
    "        then long_min, long_max are used for the extra column coordinates\n",
    "        Since Sheffield has the same latitude as Liverpool and the same longitude as Leeds \n",
    "        both longitude and latitude if statement was added to account for that\n",
    "        '''\n",
    "        \n",
    "        self.new_df = df[df[col_name].between(min_, max_, inclusive=inclusive)]\n",
    "        \n",
    "        # for if both long and lat are provided\n",
    "        if long_min is not None and long_max is not None:\n",
    "            self.new_df = self.new_df[self.new_df['longitude'].between(long_min, long_max, inclusive=inclusive)]\n",
    "        \n",
    "\n",
    "        return self.new_df.shape\n",
    "    \n",
    "    def plot_hexmap(self, df, color_continuous_scale, marker_color, nx_hexagon, size):\n",
    "        \n",
    "        # getting an api token\n",
    "        px.set_mapbox_access_token('pk.eyJ1IjoibHpqZCIsImEiOiJja3hrcjFldjkxOWFvMnB1YjRkYXRwOXA5In0.MF_PBu1CBZsOnbzy6NWasA')\n",
    "        \n",
    "        # making the plot\n",
    "        fig = ff.create_hexbin_mapbox(\n",
    "        data_frame=self.new_df, lat='latitude', lon='longitude',\n",
    "        nx_hexagon=nx_hexagon, opacity=0.7,\n",
    "        min_count=1, color_continuous_scale=color_continuous_scale,\n",
    "        show_original_data=True, # this plots data too\n",
    "        original_data_marker=dict(size=size, opacity=0.1, color=marker_color)\n",
    "        )\n",
    "        \n",
    "        fig.show()\n",
    "        \n",
    "        return\n",
    "        \n",
    "hm = HexMaps()"
   ]
  },
  {
   "cell_type": "code",
   "execution_count": 5,
   "id": "c30bf970",
   "metadata": {},
   "outputs": [],
   "source": [
    "import nbmerge\n",
    "\n",
    "!nbmerge london_hexplots.ipynb liverpool_sheffield_hexmaps.ipynb leeds_bradford_bristol_hexmaps.ipynb > hexbin_maps_all.ipynb"
   ]
  },
  {
   "cell_type": "code",
   "execution_count": null,
   "id": "fbf67539",
   "metadata": {},
   "outputs": [],
   "source": []
  }
 ],
 "metadata": {
  "hide_input": false,
  "kernelspec": {
   "display_name": "Python 3 (ipykernel)",
   "language": "python",
   "name": "python3"
  },
  "language_info": {
   "codemirror_mode": {
    "name": "ipython",
    "version": 3
   },
   "file_extension": ".py",
   "mimetype": "text/x-python",
   "name": "python",
   "nbconvert_exporter": "python",
   "pygments_lexer": "ipython3",
   "version": "3.8.12"
  },
  "toc": {
   "base_numbering": 1,
   "nav_menu": {},
   "number_sections": true,
   "sideBar": true,
   "skip_h1_title": false,
   "title_cell": "Table of Contents",
   "title_sidebar": "Contents",
   "toc_cell": false,
   "toc_position": {},
   "toc_section_display": true,
   "toc_window_display": false
  },
  "varInspector": {
   "cols": {
    "lenName": 16,
    "lenType": 16,
    "lenVar": 40
   },
   "kernels_config": {
    "python": {
     "delete_cmd_postfix": "",
     "delete_cmd_prefix": "del ",
     "library": "var_list.py",
     "varRefreshCmd": "print(var_dic_list())"
    },
    "r": {
     "delete_cmd_postfix": ") ",
     "delete_cmd_prefix": "rm(",
     "library": "var_list.r",
     "varRefreshCmd": "cat(var_dic_list()) "
    }
   },
   "types_to_exclude": [
    "module",
    "function",
    "builtin_function_or_method",
    "instance",
    "_Feature"
   ],
   "window_display": false
  }
 },
 "nbformat": 4,
 "nbformat_minor": 5
}
