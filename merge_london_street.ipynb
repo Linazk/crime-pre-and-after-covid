{
 "cells": [
  {
   "cell_type": "code",
   "execution_count": 2,
   "id": "6ee0ff7a",
   "metadata": {},
   "outputs": [],
   "source": [
    "import pandas as pd\n"
   ]
  },
  {
   "cell_type": "code",
   "execution_count": 3,
   "id": "c2a67380",
   "metadata": {},
   "outputs": [],
   "source": [
    "import pandas as pd\n",
    "pd.set_option('display.max_columns', None)\n",
    "pd.set_option('display.max_rows', None)\n",
    "import glob"
   ]
  },
  {
   "cell_type": "code",
   "execution_count": 4,
   "id": "e8c99168",
   "metadata": {},
   "outputs": [
    {
     "data": {
      "text/plain": [
       "[1, 2, 3, 4, 5, 6, 7, 8, 9, 10, 11, 12]"
      ]
     },
     "execution_count": 4,
     "metadata": {},
     "output_type": "execute_result"
    }
   ],
   "source": [
    "months = list(range(1, 13))\n",
    "months"
   ]
  },
  {
   "cell_type": "code",
   "execution_count": 5,
   "id": "601b770c",
   "metadata": {},
   "outputs": [
    {
     "data": {
      "text/plain": [
       "[2018, 2019, 2020, 2021]"
      ]
     },
     "execution_count": 5,
     "metadata": {},
     "output_type": "execute_result"
    }
   ],
   "source": [
    "years = list(range(2018, 2022))\n",
    "years"
   ]
  },
  {
   "cell_type": "code",
   "execution_count": 6,
   "id": "448a9492",
   "metadata": {},
   "outputs": [
    {
     "data": {
      "text/plain": [
       "['2018-01',\n",
       " '2018-02',\n",
       " '2018-03',\n",
       " '2018-04',\n",
       " '2018-05',\n",
       " '2018-06',\n",
       " '2018-07',\n",
       " '2018-08',\n",
       " '2018-09',\n",
       " '2018-10',\n",
       " '2018-11',\n",
       " '2018-12',\n",
       " '2019-01',\n",
       " '2019-02',\n",
       " '2019-03',\n",
       " '2019-04',\n",
       " '2019-05',\n",
       " '2019-06',\n",
       " '2019-07',\n",
       " '2019-08',\n",
       " '2019-09',\n",
       " '2019-10',\n",
       " '2019-11',\n",
       " '2019-12',\n",
       " '2020-01',\n",
       " '2020-02',\n",
       " '2020-03',\n",
       " '2020-04',\n",
       " '2020-05',\n",
       " '2020-06',\n",
       " '2020-07',\n",
       " '2020-08',\n",
       " '2020-09',\n",
       " '2020-10',\n",
       " '2020-11',\n",
       " '2020-12',\n",
       " '2021-01',\n",
       " '2021-02',\n",
       " '2021-03',\n",
       " '2021-04',\n",
       " '2021-05',\n",
       " '2021-06',\n",
       " '2021-07',\n",
       " '2021-08',\n",
       " '2021-09',\n",
       " '2021-10',\n",
       " '2021-11',\n",
       " '2021-12']"
      ]
     },
     "execution_count": 6,
     "metadata": {},
     "output_type": "execute_result"
    }
   ],
   "source": [
    "#getting list of all dates to be substituted in file paths\n",
    "dates = []\n",
    "for year in years:\n",
    "    for m in months:\n",
    "        date = f\"{year}\"+\"-{:0>2d}\".format(m)\n",
    "        dates.append(date)\n",
    "dates"
   ]
  },
  {
   "cell_type": "code",
   "execution_count": 29,
   "id": "b086701b",
   "metadata": {},
   "outputs": [
    {
     "data": {
      "text/plain": [
       "48"
      ]
     },
     "execution_count": 29,
     "metadata": {},
     "output_type": "execute_result"
    }
   ],
   "source": [
    "len(dates)"
   ]
  },
  {
   "cell_type": "code",
   "execution_count": 7,
   "id": "b8e8a0cd",
   "metadata": {},
   "outputs": [
    {
     "data": {
      "text/plain": [
       "['2018-11',\n",
       " '2018-12',\n",
       " '2019-01',\n",
       " '2019-02',\n",
       " '2019-03',\n",
       " '2019-04',\n",
       " '2019-05',\n",
       " '2019-06',\n",
       " '2019-07',\n",
       " '2019-08',\n",
       " '2019-09',\n",
       " '2019-10',\n",
       " '2019-11',\n",
       " '2019-12',\n",
       " '2020-01',\n",
       " '2020-02',\n",
       " '2020-03',\n",
       " '2020-04',\n",
       " '2020-05',\n",
       " '2020-06',\n",
       " '2020-07',\n",
       " '2020-08',\n",
       " '2020-09',\n",
       " '2020-10',\n",
       " '2020-11',\n",
       " '2020-12',\n",
       " '2021-01',\n",
       " '2021-02',\n",
       " '2021-03',\n",
       " '2021-04',\n",
       " '2021-05',\n",
       " '2021-06',\n",
       " '2021-07',\n",
       " '2021-08',\n",
       " '2021-09',\n",
       " '2021-10']"
      ]
     },
     "execution_count": 7,
     "metadata": {},
     "output_type": "execute_result"
    }
   ],
   "source": [
    "#remove dates for which there is no data\n",
    "\n",
    "dates = dates[10:46]\n",
    "dates"
   ]
  },
  {
   "cell_type": "code",
   "execution_count": 8,
   "id": "981308ad",
   "metadata": {},
   "outputs": [
    {
     "data": {
      "text/plain": [
       "['police_data\\\\2018-11\\\\2018-11-city-of-london-street.csv',\n",
       " 'police_data\\\\2018-11\\\\2018-11-metropolitan-street.csv',\n",
       " 'police_data\\\\2018-12\\\\2018-12-city-of-london-street.csv',\n",
       " 'police_data\\\\2018-12\\\\2018-12-metropolitan-street.csv',\n",
       " 'police_data\\\\2019-01\\\\2019-01-city-of-london-street.csv',\n",
       " 'police_data\\\\2019-01\\\\2019-01-metropolitan-street.csv',\n",
       " 'police_data\\\\2019-02\\\\2019-02-city-of-london-street.csv',\n",
       " 'police_data\\\\2019-02\\\\2019-02-metropolitan-street.csv',\n",
       " 'police_data\\\\2019-03\\\\2019-03-city-of-london-street.csv',\n",
       " 'police_data\\\\2019-03\\\\2019-03-metropolitan-street.csv',\n",
       " 'police_data\\\\2019-04\\\\2019-04-city-of-london-street.csv',\n",
       " 'police_data\\\\2019-04\\\\2019-04-metropolitan-street.csv',\n",
       " 'police_data\\\\2019-05\\\\2019-05-city-of-london-street.csv',\n",
       " 'police_data\\\\2019-05\\\\2019-05-metropolitan-street.csv',\n",
       " 'police_data\\\\2019-06\\\\2019-06-city-of-london-street.csv',\n",
       " 'police_data\\\\2019-06\\\\2019-06-metropolitan-street.csv',\n",
       " 'police_data\\\\2019-07\\\\2019-07-city-of-london-street.csv',\n",
       " 'police_data\\\\2019-07\\\\2019-07-metropolitan-street.csv',\n",
       " 'police_data\\\\2019-08\\\\2019-08-city-of-london-street.csv',\n",
       " 'police_data\\\\2019-08\\\\2019-08-metropolitan-street.csv',\n",
       " 'police_data\\\\2019-09\\\\2019-09-city-of-london-street.csv',\n",
       " 'police_data\\\\2019-09\\\\2019-09-metropolitan-street.csv',\n",
       " 'police_data\\\\2019-10\\\\2019-10-city-of-london-street.csv',\n",
       " 'police_data\\\\2019-10\\\\2019-10-metropolitan-street.csv',\n",
       " 'police_data\\\\2019-11\\\\2019-11-city-of-london-street.csv',\n",
       " 'police_data\\\\2019-11\\\\2019-11-metropolitan-street.csv',\n",
       " 'police_data\\\\2019-12\\\\2019-12-city-of-london-street.csv',\n",
       " 'police_data\\\\2019-12\\\\2019-12-metropolitan-street.csv',\n",
       " 'police_data\\\\2020-01\\\\2020-01-city-of-london-street.csv',\n",
       " 'police_data\\\\2020-01\\\\2020-01-metropolitan-street.csv',\n",
       " 'police_data\\\\2020-02\\\\2020-02-city-of-london-street.csv',\n",
       " 'police_data\\\\2020-02\\\\2020-02-metropolitan-street.csv',\n",
       " 'police_data\\\\2020-03\\\\2020-03-city-of-london-street.csv',\n",
       " 'police_data\\\\2020-03\\\\2020-03-metropolitan-street.csv',\n",
       " 'police_data\\\\2020-04\\\\2020-04-city-of-london-street.csv',\n",
       " 'police_data\\\\2020-04\\\\2020-04-metropolitan-street.csv',\n",
       " 'police_data\\\\2020-05\\\\2020-05-city-of-london-street.csv',\n",
       " 'police_data\\\\2020-05\\\\2020-05-metropolitan-street.csv',\n",
       " 'police_data\\\\2020-06\\\\2020-06-city-of-london-street.csv',\n",
       " 'police_data\\\\2020-06\\\\2020-06-metropolitan-street.csv',\n",
       " 'police_data\\\\2020-07\\\\2020-07-city-of-london-street.csv',\n",
       " 'police_data\\\\2020-07\\\\2020-07-metropolitan-street.csv',\n",
       " 'police_data\\\\2020-08\\\\2020-08-city-of-london-street.csv',\n",
       " 'police_data\\\\2020-08\\\\2020-08-metropolitan-street.csv',\n",
       " 'police_data\\\\2020-09\\\\2020-09-city-of-london-street.csv',\n",
       " 'police_data\\\\2020-09\\\\2020-09-metropolitan-street.csv',\n",
       " 'police_data\\\\2020-10\\\\2020-10-city-of-london-street.csv',\n",
       " 'police_data\\\\2020-10\\\\2020-10-metropolitan-street.csv',\n",
       " 'police_data\\\\2020-11\\\\2020-11-city-of-london-street.csv',\n",
       " 'police_data\\\\2020-11\\\\2020-11-metropolitan-street.csv',\n",
       " 'police_data\\\\2020-12\\\\2020-12-city-of-london-street.csv',\n",
       " 'police_data\\\\2020-12\\\\2020-12-metropolitan-street.csv',\n",
       " 'police_data\\\\2021-01\\\\2021-01-city-of-london-street.csv',\n",
       " 'police_data\\\\2021-01\\\\2021-01-metropolitan-street.csv',\n",
       " 'police_data\\\\2021-02\\\\2021-02-city-of-london-street.csv',\n",
       " 'police_data\\\\2021-02\\\\2021-02-metropolitan-street.csv',\n",
       " 'police_data\\\\2021-03\\\\2021-03-city-of-london-street.csv',\n",
       " 'police_data\\\\2021-03\\\\2021-03-metropolitan-street.csv',\n",
       " 'police_data\\\\2021-04\\\\2021-04-city-of-london-street.csv',\n",
       " 'police_data\\\\2021-04\\\\2021-04-metropolitan-street.csv',\n",
       " 'police_data\\\\2021-05\\\\2021-05-city-of-london-street.csv',\n",
       " 'police_data\\\\2021-05\\\\2021-05-metropolitan-street.csv',\n",
       " 'police_data\\\\2021-06\\\\2021-06-city-of-london-street.csv',\n",
       " 'police_data\\\\2021-06\\\\2021-06-metropolitan-street.csv',\n",
       " 'police_data\\\\2021-07\\\\2021-07-city-of-london-street.csv',\n",
       " 'police_data\\\\2021-07\\\\2021-07-metropolitan-street.csv',\n",
       " 'police_data\\\\2021-08\\\\2021-08-city-of-london-street.csv',\n",
       " 'police_data\\\\2021-08\\\\2021-08-metropolitan-street.csv',\n",
       " 'police_data\\\\2021-09\\\\2021-09-city-of-london-street.csv',\n",
       " 'police_data\\\\2021-09\\\\2021-09-metropolitan-street.csv',\n",
       " 'police_data\\\\2021-10\\\\2021-10-city-of-london-street.csv',\n",
       " 'police_data\\\\2021-10\\\\2021-10-metropolitan-street.csv']"
      ]
     },
     "execution_count": 8,
     "metadata": {},
     "output_type": "execute_result"
    }
   ],
   "source": [
    "#getting csv file names for all forces street data from folders arranged by dates\n",
    "file_names_street = []\n",
    "for date in dates:\n",
    "    path = f'police_data\\\\{date}\\\\'\n",
    "    files = glob.glob(path + '\\\\*-street.csv')\n",
    "    file_names_street.extend(files)\n",
    "file_names_street"
   ]
  },
  {
   "cell_type": "code",
   "execution_count": 9,
   "id": "589370eb",
   "metadata": {},
   "outputs": [
    {
     "name": "stdout",
     "output_type": "stream",
     "text": [
      "police_data\\2018-11\\2018-11-metropolitan-street.csv\n",
      "police_data\\2018-12\\2018-12-city-of-london-street.csv\n",
      "police_data\\2018-12\\2018-12-metropolitan-street.csv\n",
      "police_data\\2019-01\\2019-01-city-of-london-street.csv\n",
      "police_data\\2019-01\\2019-01-metropolitan-street.csv\n",
      "police_data\\2019-02\\2019-02-city-of-london-street.csv\n",
      "police_data\\2019-02\\2019-02-metropolitan-street.csv\n",
      "police_data\\2019-03\\2019-03-city-of-london-street.csv\n",
      "police_data\\2019-03\\2019-03-metropolitan-street.csv\n",
      "police_data\\2019-04\\2019-04-city-of-london-street.csv\n",
      "police_data\\2019-04\\2019-04-metropolitan-street.csv\n",
      "police_data\\2019-05\\2019-05-city-of-london-street.csv\n",
      "police_data\\2019-05\\2019-05-metropolitan-street.csv\n",
      "police_data\\2019-06\\2019-06-city-of-london-street.csv\n",
      "police_data\\2019-06\\2019-06-metropolitan-street.csv\n",
      "police_data\\2019-07\\2019-07-city-of-london-street.csv\n",
      "police_data\\2019-07\\2019-07-metropolitan-street.csv\n",
      "police_data\\2019-08\\2019-08-city-of-london-street.csv\n",
      "police_data\\2019-08\\2019-08-metropolitan-street.csv\n",
      "police_data\\2019-09\\2019-09-city-of-london-street.csv\n",
      "police_data\\2019-09\\2019-09-metropolitan-street.csv\n",
      "police_data\\2019-10\\2019-10-city-of-london-street.csv\n",
      "police_data\\2019-10\\2019-10-metropolitan-street.csv\n",
      "police_data\\2019-11\\2019-11-city-of-london-street.csv\n",
      "police_data\\2019-11\\2019-11-metropolitan-street.csv\n",
      "police_data\\2019-12\\2019-12-city-of-london-street.csv\n",
      "police_data\\2019-12\\2019-12-metropolitan-street.csv\n",
      "police_data\\2020-01\\2020-01-city-of-london-street.csv\n",
      "police_data\\2020-01\\2020-01-metropolitan-street.csv\n",
      "police_data\\2020-02\\2020-02-city-of-london-street.csv\n",
      "police_data\\2020-02\\2020-02-metropolitan-street.csv\n",
      "police_data\\2020-03\\2020-03-city-of-london-street.csv\n",
      "police_data\\2020-03\\2020-03-metropolitan-street.csv\n",
      "police_data\\2020-04\\2020-04-city-of-london-street.csv\n",
      "police_data\\2020-04\\2020-04-metropolitan-street.csv\n",
      "police_data\\2020-05\\2020-05-city-of-london-street.csv\n",
      "police_data\\2020-05\\2020-05-metropolitan-street.csv\n",
      "police_data\\2020-06\\2020-06-city-of-london-street.csv\n",
      "police_data\\2020-06\\2020-06-metropolitan-street.csv\n",
      "police_data\\2020-07\\2020-07-city-of-london-street.csv\n",
      "police_data\\2020-07\\2020-07-metropolitan-street.csv\n",
      "police_data\\2020-08\\2020-08-city-of-london-street.csv\n",
      "police_data\\2020-08\\2020-08-metropolitan-street.csv\n",
      "police_data\\2020-09\\2020-09-city-of-london-street.csv\n",
      "police_data\\2020-09\\2020-09-metropolitan-street.csv\n",
      "police_data\\2020-10\\2020-10-city-of-london-street.csv\n",
      "police_data\\2020-10\\2020-10-metropolitan-street.csv\n",
      "police_data\\2020-11\\2020-11-city-of-london-street.csv\n",
      "police_data\\2020-11\\2020-11-metropolitan-street.csv\n",
      "police_data\\2020-12\\2020-12-city-of-london-street.csv\n",
      "police_data\\2020-12\\2020-12-metropolitan-street.csv\n",
      "police_data\\2021-01\\2021-01-city-of-london-street.csv\n",
      "police_data\\2021-01\\2021-01-metropolitan-street.csv\n",
      "police_data\\2021-02\\2021-02-city-of-london-street.csv\n",
      "police_data\\2021-02\\2021-02-metropolitan-street.csv\n",
      "police_data\\2021-03\\2021-03-city-of-london-street.csv\n",
      "police_data\\2021-03\\2021-03-metropolitan-street.csv\n",
      "police_data\\2021-04\\2021-04-city-of-london-street.csv\n",
      "police_data\\2021-04\\2021-04-metropolitan-street.csv\n",
      "police_data\\2021-05\\2021-05-city-of-london-street.csv\n",
      "police_data\\2021-05\\2021-05-metropolitan-street.csv\n",
      "police_data\\2021-06\\2021-06-city-of-london-street.csv\n",
      "police_data\\2021-06\\2021-06-metropolitan-street.csv\n",
      "police_data\\2021-07\\2021-07-city-of-london-street.csv\n",
      "police_data\\2021-07\\2021-07-metropolitan-street.csv\n",
      "police_data\\2021-08\\2021-08-city-of-london-street.csv\n",
      "police_data\\2021-08\\2021-08-metropolitan-street.csv\n",
      "police_data\\2021-09\\2021-09-city-of-london-street.csv\n",
      "police_data\\2021-09\\2021-09-metropolitan-street.csv\n",
      "police_data\\2021-10\\2021-10-city-of-london-street.csv\n",
      "police_data\\2021-10\\2021-10-metropolitan-street.csv\n"
     ]
    }
   ],
   "source": [
    "#merging csv files from every force and every date \n",
    "\n",
    "parse_dates = ['Month']\n",
    "street_2020 = pd.read_csv('police_data/2020-01/2020-01-city-of-london-street.csv', dtype={'Crime ID': str, 'Month': str, 'Longitude': 'float64', 'Latitude': 'float64', 'Context': 'float64'}, parse_dates=parse_dates)\n",
    "\n",
    "for file_name in file_names_street[1:]:\n",
    "    print(file_name)\n",
    "    try:\n",
    "        parse_dates = ['Month']\n",
    "        street_month = pd.read_csv(file_name, dtype={'Crime ID': str, 'Month': str, 'Reported by':str, 'Falls within':str, 'Longitude': 'float64', 'Latitude': 'float64', 'Location':str, 'LSOA code':str, 'LSOA name':str, 'Crime type':str, 'Last outcome category': str,'Context': 'float64'}, parse_dates=parse_dates)\n",
    "        street_2020 = pd.merge(street_2020, street_month, how='outer', on=['Crime ID', 'Month', 'Reported by', 'Falls within', 'Longitude', 'Latitude', 'Location', 'LSOA code', 'LSOA name', 'Crime type', 'Last outcome category', 'Context'])\n",
    "    except Exception as e: \n",
    "        print(f'The following file: {file_name} failed to merge.')\n",
    "        print(f'The reason for not merging correctly: {e}')\n",
    "        "
   ]
  },
  {
   "cell_type": "code",
   "execution_count": 10,
   "id": "29261f26",
   "metadata": {},
   "outputs": [],
   "source": [
    "street_2020.to_csv('street_london2', encoding='utf-8', date_format='%Y-%m', index=False)"
   ]
  },
  {
   "cell_type": "code",
   "execution_count": null,
   "id": "a36e3e54",
   "metadata": {},
   "outputs": [],
   "source": []
  },
  {
   "cell_type": "code",
   "execution_count": null,
   "id": "9d7a7a52",
   "metadata": {},
   "outputs": [],
   "source": []
  }
 ],
 "metadata": {
  "kernelspec": {
   "display_name": "Python 3",
   "language": "python",
   "name": "python3"
  },
  "language_info": {
   "codemirror_mode": {
    "name": "ipython",
    "version": 3
   },
   "file_extension": ".py",
   "mimetype": "text/x-python",
   "name": "python",
   "nbconvert_exporter": "python",
   "pygments_lexer": "ipython3",
   "version": "3.8.8"
  }
 },
 "nbformat": 4,
 "nbformat_minor": 5
}
